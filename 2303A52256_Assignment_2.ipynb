{
  "nbformat": 4,
  "nbformat_minor": 0,
  "metadata": {
    "colab": {
      "provenance": [],
      "authorship_tag": "ABX9TyNSWKB13nQEHiHJrCst6lvo",
      "include_colab_link": true
    },
    "kernelspec": {
      "name": "python3",
      "display_name": "Python 3"
    },
    "language_info": {
      "name": "python"
    }
  },
  "cells": [
    {
      "cell_type": "markdown",
      "metadata": {
        "id": "view-in-github",
        "colab_type": "text"
      },
      "source": [
        "<a href=\"https://colab.research.google.com/github/Siri-2256/SML_2303A52256_B43/blob/main/2303A52256_Assignment_2.ipynb\" target=\"_parent\"><img src=\"https://colab.research.google.com/assets/colab-badge.svg\" alt=\"Open In Colab\"/></a>"
      ]
    },
    {
      "cell_type": "code",
      "execution_count": null,
      "metadata": {
        "colab": {
          "base_uri": "https://localhost:8080/",
          "height": 482
        },
        "id": "pG18yKAcq_pA",
        "outputId": "38d5be6d-9c12-42bf-aa2d-409405c43baf"
      },
      "outputs": [
        {
          "output_type": "execute_result",
          "data": {
            "text/plain": [
              "(array([8., 3., 1., 0., 1.]),\n",
              " array([ 1.3 ,  3.24,  5.18,  7.12,  9.06, 11.  ]),\n",
              " <BarContainer object of 5 artists>)"
            ]
          },
          "metadata": {},
          "execution_count": 1
        },
        {
          "output_type": "display_data",
          "data": {
            "text/plain": [
              "<Figure size 640x480 with 1 Axes>"
            ],
            "image/png": "[encoded data removed]"
          },
          "metadata": {}
        }
      ],
      "source": [
        "#2303A52256\n",
        "#Question 1\n",
        "import numpy as np\n",
        "import matplotlib.pyplot as plt\n",
        "x=np.array([1.3, 1.5, 2.6, 2.6, 3.2, 3.9, 4.2, 3.7, 3.10, 3.0,11,6.7,1.9])\n",
        "plt.hist(x,bins=5)\n"
      ]
    },
    {
      "cell_type": "code",
      "source": [
        "#Question2\n",
        "# Find Mean, Median, Mode , Variance , Standard deviation , Range , Interquartile Range (IQR),  Skewness ,Kurtosis of x and y\n",
        "\n",
        "import numpy as np\n",
        "from scipy import stats as s\n",
        "import matplotlib.pyplot as plt\n",
        "\n",
        "A=[12,13,56,23,41,28,51]\n",
        "B=[51,63,37,88,33,72,81]\n",
        "\n",
        "print(\"Mean of A is\",np.mean(A))\n",
        "print(\"Mean of B is\",np.mean(B))"
      ],
      "metadata": {
        "colab": {
          "base_uri": "https://localhost:8080/"
        },
        "id": "yzZC3LUasKNm",
        "outputId": "d6d49d38-24bb-4d9b-9a6b-ed30ead5f3e9"
      },
      "execution_count": null,
      "outputs": [
        {
          "output_type": "stream",
          "name": "stdout",
          "text": [
            "Mean of A is 32.0\n",
            "Mean of B is 60.714285714285715\n"
          ]
        }
      ]
    },
    {
      "cell_type": "code",
      "source": [
        "print(\"Median of A is\",np.median(A))\n",
        "print(\"Median of B is\",np.median(B))"
      ],
      "metadata": {
        "colab": {
          "base_uri": "https://localhost:8080/"
        },
        "id": "Dt82GeDqtdXw",
        "outputId": "a34d9099-28e4-4efc-8e77-aaa485809a9b"
      },
      "execution_count": null,
      "outputs": [
        {
          "output_type": "stream",
          "name": "stdout",
          "text": [
            "Median of A is 28.0\n",
            "Median of B is 63.0\n"
          ]
        }
      ]
    },
    {
      "cell_type": "code",
      "source": [
        "print(\"Mode of A is\",s.mode(A))\n",
        "print(\"Mode of B is\",s.mode(B))"
      ],
      "metadata": {
        "colab": {
          "base_uri": "https://localhost:8080/"
        },
        "id": "iexLJxqftUqd",
        "outputId": "300d7634-1ff1-4d4b-954c-4b7ffff0ceff"
      },
      "execution_count": null,
      "outputs": [
        {
          "output_type": "stream",
          "name": "stdout",
          "text": [
            "Mode of A is ModeResult(mode=12, count=1)\n",
            "Mode of B is ModeResult(mode=33, count=1)\n"
          ]
        }
      ]
    },
    {
      "cell_type": "code",
      "source": [
        "print(\"Variance of A is\",np.var(A))\n",
        "print(\"Variance of B is\",np.var(B))"
      ],
      "metadata": {
        "colab": {
          "base_uri": "https://localhost:8080/"
        },
        "id": "r3WSH2xFt1Na",
        "outputId": "19f240bd-6b32-4c71-a377-99c0f2a7255e"
      },
      "execution_count": null,
      "outputs": [
        {
          "output_type": "stream",
          "name": "stdout",
          "text": [
            "Variance of x is 268.0\n",
            "Variance of y is 387.6326530612245\n"
          ]
        }
      ]
    },
    {
      "cell_type": "code",
      "source": [
        "print(\"Standard deviation of A is\",np.std(A))\n",
        "print(\"Standard deviation of B is\",np.std(B))"
      ],
      "metadata": {
        "colab": {
          "base_uri": "https://localhost:8080/"
        },
        "id": "KizKn5V3uW8E",
        "outputId": "bebb4f2d-642e-48b7-f3c1-08aed662a55a"
      },
      "execution_count": null,
      "outputs": [
        {
          "output_type": "stream",
          "name": "stdout",
          "text": [
            "Standard deviation of A is 16.3707055437449\n",
            "Standard deviation of B is 19.68838878784205\n"
          ]
        }
      ]
    },
    {
      "cell_type": "code",
      "source": [
        "print(\"Range of A is\",max(A)-min(A))\n",
        "print(\"Range of B is\",max(B)-min(B))\n"
      ],
      "metadata": {
        "colab": {
          "base_uri": "https://localhost:8080/"
        },
        "id": "waUuA4RNufb_",
        "outputId": "c84bf070-544b-44f8-e282-39a743ecfe5e"
      },
      "execution_count": null,
      "outputs": [
        {
          "output_type": "stream",
          "name": "stdout",
          "text": [
            "Range of A is 44\n",
            "Range of B is 55\n"
          ]
        }
      ]
    },
    {
      "cell_type": "code",
      "source": [
        "print(\"Interquartile range of A is\",np.percentile(A,75)-\n",
        "np.percentile(A,25))\n",
        "print(\"Interquartile range of y is\",np.percentile(y,75)-\n",
        "np.percentile(B,25))"
      ],
      "metadata": {
        "colab": {
          "base_uri": "https://localhost:8080/"
        },
        "id": "mpPCH7oZuvS1",
        "outputId": "2eea3c0c-cc63-436f-f8f9-9780ebe20817"
      },
      "execution_count": null,
      "outputs": [
        {
          "output_type": "stream",
          "name": "stdout",
          "text": [
            "Interquartile range of A is 28.0\n",
            "Interquartile range of y is 32.5\n"
          ]
        }
      ]
    },
    {
      "cell_type": "code",
      "source": [
        "print(\"Skewness of A is\",s.skew(A))\n",
        "print(\"Skewness of B is\",s.skew(B))"
      ],
      "metadata": {
        "colab": {
          "base_uri": "https://localhost:8080/"
        },
        "id": "vI3dcBY_u62s",
        "outputId": "1cf67d1d-802b-4173-8844-9a754d4f89b5"
      },
      "execution_count": null,
      "outputs": [
        {
          "output_type": "stream",
          "name": "stdout",
          "text": [
            "Skewness of A is 0.18755223867066048\n",
            "Skewness of B is -0.10160487226954186\n"
          ]
        }
      ]
    },
    {
      "cell_type": "code",
      "source": [
        "print(\"Kurtosis of A is\",s.kurtosis(A))\n",
        "print(\"Kurtosis of B is\",s.kurtosis(B))"
      ],
      "metadata": {
        "colab": {
          "base_uri": "https://localhost:8080/"
        },
        "id": "fGcBnThfvCx4",
        "outputId": "926200b8-5e19-4b42-e38b-eee74b4db943"
      },
      "execution_count": null,
      "outputs": [
        {
          "output_type": "stream",
          "name": "stdout",
          "text": [
            "Kurtosis of A is -1.47684021258314\n",
            "Kurtosis of B is -1.4265295827972655\n"
          ]
        }
      ]
    }
  ]
}