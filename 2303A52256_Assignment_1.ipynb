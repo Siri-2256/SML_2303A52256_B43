{
  "nbformat": 4,
  "nbformat_minor": 0,
  "metadata": {
    "colab": {
      "provenance": [],
      "authorship_tag": "ABX9TyPpcxY2RobQ/b8QF944xGW7",
      "include_colab_link": true
    },
    "kernelspec": {
      "name": "python3",
      "display_name": "Python 3"
    },
    "language_info": {
      "name": "python"
    }
  },
  "cells": [
    {
      "cell_type": "markdown",
      "metadata": {
        "id": "view-in-github",
        "colab_type": "text"
      },
      "source": [
        "<a href=\"https://colab.research.google.com/github/Siri-2256/SML_2303A52256_B43/blob/main/2303A52256_Assignment_1.ipynb\" target=\"_parent\"><img src=\"https://colab.research.google.com/assets/colab-badge.svg\" alt=\"Open In Colab\"/></a>"
      ]
    },
    {
      "cell_type": "code",
      "execution_count": null,
      "metadata": {
        "id": "y1WTMg7aI-0J"
      },
      "outputs": [],
      "source": [
        "#2303A52256\n",
        "#Question 1\n",
        "import numpy as np\n",
        "import matplotlib.pyplot as plt\n",
        "x=np.array([2.3, 2.5, 3.6, 2.8, 3.1, 2.9, 3.2, 2.7, 2.8, 3.0])\n",
        "plt.hist(x,bins=5)\n",
        "\n",
        "\n",
        "\n",
        "\n",
        "\n",
        "\n"
      ]
    },
    {
      "cell_type": "code",
      "source": [
        "  #Question2\n",
        "  # Find Mean, Median, Mode , Variance , Standard deviation , Range , Interquartile Range (IQR),  Skewness ,Kurtosis of x and y\n",
        "\n",
        "  import numpy as np\n",
        "  from scipy import stats as s\n",
        "  import matplotlib.pyplot as plt\n",
        "\n",
        "  x=[4, 5, 8, 2, 4, 2, 5]\n",
        "  y=[5, 6, 3, 8, 3, 7, 8]\n",
        "\n",
        "  print(\"Mean of x is\",np.mean(x))\n",
        "  print(\"Mean of y is\",np.mean(y))\n",
        "\n",
        "\n"
      ],
      "metadata": {
        "colab": {
          "base_uri": "https://localhost:8080/"
        },
        "id": "Woj5rt1HRBsc",
        "outputId": "7ea1c1a2-457f-4a74-ee22-94ccb51504af"
      },
      "execution_count": null,
      "outputs": [
        {
          "output_type": "stream",
          "name": "stdout",
          "text": [
            "Mean of x is 4.285714285714286\n",
            "Mean of y is 5.714285714285714\n"
          ]
        }
      ]
    },
    {
      "cell_type": "code",
      "source": [
        "print(\"Median of x is\",np.median(x))\n",
        "print(\"Median of y is\",np.median(y))"
      ],
      "metadata": {
        "colab": {
          "base_uri": "https://localhost:8080/"
        },
        "id": "I0CG6xowSI_j",
        "outputId": "3a69e3a6-2675-4b82-d66e-80f972ca315d"
      },
      "execution_count": null,
      "outputs": [
        {
          "output_type": "stream",
          "name": "stdout",
          "text": [
            "Median of x is 4.0\n",
            "Median of y is 6.0\n"
          ]
        }
      ]
    },
    {
      "cell_type": "code",
      "source": [
        "print(\"Mode of x is\",s.mode(x))\n",
        "print(\"Mode of y is\",s.mode(y))"
      ],
      "metadata": {
        "colab": {
          "base_uri": "https://localhost:8080/"
        },
        "id": "lgWWHhYeTH3l",
        "outputId": "1ca0e5a1-536f-4ea7-b705-8d9506933eb2"
      },
      "execution_count": null,
      "outputs": [
        {
          "output_type": "stream",
          "name": "stdout",
          "text": [
            "Mode of x is ModeResult(mode=2, count=2)\n",
            "Mode of y is ModeResult(mode=3, count=2)\n"
          ]
        }
      ]
    },
    {
      "cell_type": "code",
      "source": [
        "print(\"Variance of x is\",np.var(x))\n",
        "print(\"Variance of y is\",np.var(y))"
      ],
      "metadata": {
        "colab": {
          "base_uri": "https://localhost:8080/"
        },
        "id": "9XZ0Gh4pUj5T",
        "outputId": "ec4eda5e-2f79-4bf0-abd2-d121542e9280"
      },
      "execution_count": null,
      "outputs": [
        {
          "output_type": "stream",
          "name": "stdout",
          "text": [
            "Variance of x is 3.6326530612244894\n",
            "Variance of y is 3.918367346938776\n"
          ]
        }
      ]
    },
    {
      "cell_type": "code",
      "source": [
        "print(\"Standard deviation of x is\",np.std(x))\n",
        "print(\"Standard deviation of y is\",np.std(y))"
      ],
      "metadata": {
        "colab": {
          "base_uri": "https://localhost:8080/"
        },
        "id": "LEwAZfd2Uvmt",
        "outputId": "5607a91c-4a50-4d68-e2df-3b0b756dddc8"
      },
      "execution_count": null,
      "outputs": [
        {
          "output_type": "stream",
          "name": "stdout",
          "text": [
            "Standard deviation of x is 1.9059520091609048\n",
            "Standard deviation of y is 1.979486637221574\n"
          ]
        }
      ]
    },
    {
      "cell_type": "code",
      "source": [
        "print(\"Range of x is\",max(x)-min(x))\n",
        "print(\"Range of y is\",max(y)-min(y))"
      ],
      "metadata": {
        "colab": {
          "base_uri": "https://localhost:8080/"
        },
        "id": "hkojgi0zU2Nu",
        "outputId": "646933ba-b20d-4448-8450-49ff7be45d95"
      },
      "execution_count": null,
      "outputs": [
        {
          "output_type": "stream",
          "name": "stdout",
          "text": [
            "Range of x is 6\n",
            "Range of y is 5\n"
          ]
        }
      ]
    },
    {
      "cell_type": "code",
      "source": [
        "print(\"Interquartile range of x is\",np.percentile(x,75)-\n",
        "np.percentile(x,25))\n",
        "print(\"Interquartile range of y is\",np.percentile(y,75)-\n",
        "np.percentile(y,25))"
      ],
      "metadata": {
        "colab": {
          "base_uri": "https://localhost:8080/"
        },
        "id": "rNx2bwmPU-R4",
        "outputId": "a8e910a1-4413-422d-91ec-9a51282abe42"
      },
      "execution_count": null,
      "outputs": [
        {
          "output_type": "stream",
          "name": "stdout",
          "text": [
            "Interquartile range of x is 2.0\n",
            "Interquartile range of y is 3.5\n"
          ]
        }
      ]
    },
    {
      "cell_type": "code",
      "source": [
        "print(\"Skewness of x is\",s.skew(x))\n",
        "print(\"Skewness of y is\",s.skew(y))"
      ],
      "metadata": {
        "colab": {
          "base_uri": "https://localhost:8080/"
        },
        "id": "3rvtgwFjVTE-",
        "outputId": "39b8d154-da85-4a25-97c2-6be00d961db7"
      },
      "execution_count": null,
      "outputs": [
        {
          "output_type": "stream",
          "name": "stdout",
          "text": [
            "Skewness of x is 0.5785710902698393\n",
            "Skewness of y is -0.26386711521557127\n"
          ]
        }
      ]
    },
    {
      "cell_type": "code",
      "source": [
        "print(\"Kurtosis of x is\",s.kurtosis(x))\n",
        "print(\"Kurtosis of y is\",s.kurtosis(y))"
      ],
      "metadata": {
        "colab": {
          "base_uri": "https://localhost:8080/"
        },
        "id": "22DpXHUfVaT1",
        "outputId": "6dbb75a9-c262-4020-f904-8897a5cd6ded"
      },
      "execution_count": null,
      "outputs": [
        {
          "output_type": "stream",
          "name": "stdout",
          "text": [
            "Kurtosis of x is -0.34282287589950755\n",
            "Kurtosis of y is -1.4541015625000002\n"
          ]
        }
      ]
    },
    {
      "cell_type": "markdown",
      "source": [],
      "metadata": {
        "id": "J6tcA7FEZ811"
      }
    }
  ]
}